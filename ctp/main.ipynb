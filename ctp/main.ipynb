{
 "cells": [
  {
   "cell_type": "code",
   "execution_count": null,
   "id": "85ab04df",
   "metadata": {},
   "outputs": [],
   "source": [
    "!pip install transformers"
   ]
  },
  {
   "cell_type": "code",
   "execution_count": 1,
   "id": "57143b78",
   "metadata": {},
   "outputs": [],
   "source": [
    "import argparse\n",
    "import json\n",
    "import numpy as np\n",
    "import os\n",
    "import pickle\n",
    "import random\n",
    "import time\n",
    "import tqdm\n",
    "import subprocess\n",
    "import sys\n",
    "from typing import List"
   ]
  },
  {
   "cell_type": "code",
   "execution_count": 2,
   "id": "9780d0fd",
   "metadata": {},
   "outputs": [],
   "source": [
    "from transformers import AdamW, get_linear_schedule_with_warmup, AutoModelForSequenceClassification, AutoTokenizer\n",
    "from transformers.trainer import set_seed"
   ]
  },
  {
   "cell_type": "code",
   "execution_count": 3,
   "id": "c8e131d3",
   "metadata": {},
   "outputs": [],
   "source": [
    "import torch\n",
    "from torch.nn import CrossEntropyLoss"
   ]
  },
  {
   "cell_type": "code",
   "execution_count": 4,
   "id": "64b72c07",
   "metadata": {},
   "outputs": [],
   "source": [
    "sys.path.append('..')"
   ]
  },
  {
   "cell_type": "code",
   "execution_count": 5,
   "id": "9f1aeacf",
   "metadata": {},
   "outputs": [
    {
     "name": "stdout",
     "output_type": "stream",
     "text": [
      "Using GPU: Tesla T4\n"
     ]
    }
   ],
   "source": [
    "from ctp.metrics import compute_metrics, compute_scores, flat_accuracy\n",
    "from ctp.utils import (\n",
    "    check_backwards_compatability,\n",
    "    format_time,\n",
    "    get_device,\n",
    "    get_sentences_results_wordnet_df,\n",
    "    print_average_metrics,\n",
    "    str2bool,\n",
    ")\n",
    "from ctp.inference.examine_subtrees import run_inference_subtree\n",
    "from datasets.model_inputs.dataset import get_dataset\n",
    "\n",
    "device = get_device()"
   ]
  },
  {
   "cell_type": "code",
   "execution_count": 6,
   "id": "e4ddd54d",
   "metadata": {},
   "outputs": [
    {
     "name": "stdout",
     "output_type": "stream",
     "text": [
      "1\n"
     ]
    }
   ],
   "source": [
    "print(1)"
   ]
  },
  {
   "cell_type": "code",
   "execution_count": 7,
   "id": "4d1a716c",
   "metadata": {},
   "outputs": [],
   "source": [
    "def set_random_seed(seed_val):\n",
    "    random.seed(seed_val)\n",
    "    np.random.seed(seed_val)\n",
    "    torch.manual_seed(seed_val)\n",
    "    torch.cuda.manual_seed_all(seed_val)\n",
    "    set_seed(seed_val)"
   ]
  },
  {
   "cell_type": "code",
   "execution_count": 8,
   "id": "21b85ae6",
   "metadata": {},
   "outputs": [],
   "source": [
    "def run_inference(test_filename: str,\n",
    "        epoch_num: int,\n",
    "        results_filename: str,\n",
    "        subtrees_filename: str,\n",
    "        results_dir: str,\n",
    "        data_dir: str,\n",
    "        wordnet_dir: str = './datasets/data_creators/df_csvs/',\n",
    "        prediction_metric_type: str = 'ancestor',\n",
    "        wordnet_filename: str = \"bansal14_trees.csv\",\n",
    "        wordnet_df_names: List[str] = ['hypernym', 'term', 'tree_id', 'train_test_split'],\n",
    "        keys_to_print: List[str] = ['pruned_precision', 'pruned_recall', 'pruned_f1']):\n",
    "\n",
    "    sentences, results, wordnet_df = get_sentences_results_wordnet_df(\n",
    "            wordnet_filepath=os.path.join(wordnet_dir, wordnet_filename),\n",
    "            results_filepath=os.path.join(results_dir, results_filename.format(epoch_num=epoch_num)),\n",
    "            sentences_filepath=os.path.join(data_dir, test_filename))\n",
    "    tree_ids = np.unique([val[\"tree_id\"] for val in sentences.values()])\n",
    "\n",
    "    subtrees_dict = {}\n",
    "    subtrees_info_dict = {}\n",
    "\n",
    "    for tree_id in tree_ids:\n",
    "        run_inference_subtree(\n",
    "            tree_id=tree_id,\n",
    "            prediction_metric_type=prediction_metric_type,\n",
    "            sentences=sentences,\n",
    "            results=results,\n",
    "            subtrees_dict=subtrees_dict,\n",
    "            subtrees_info_dict=subtrees_info_dict,\n",
    "            wordnet_df=wordnet_df,\n",
    "        )\n",
    "\n",
    "    print_average_metrics(subtrees_info_dict, epoch_num)\n",
    "\n",
    "    with open(os.path.join(results_dir, subtrees_filename.format(epoch_num=epoch_num)), 'wb') as f:\n",
    "        pickle.dump(subtrees_dict, f)"
   ]
  },
  {
   "cell_type": "code",
   "execution_count": 9,
   "id": "77f05676",
   "metadata": {},
   "outputs": [],
   "source": [
    "def run_validation(test_data,\n",
    "        test_filename,\n",
    "        train_filename,\n",
    "        model,\n",
    "        results_dir,\n",
    "        epoch_num,\n",
    "        experiment_name,\n",
    "        results_filename,\n",
    "        metrics_filename):\n",
    "    \"\"\"\n",
    "    test_data: (test_data, test_hashes).\n",
    "    \"\"\"\n",
    "    test_dataloader, test_hashes = test_data\n",
    "    eval_accuracy = 0\n",
    "    nb_eval_steps = 0\n",
    "    results_dict = {}\n",
    "    hash_index = 0  # TODO: Better way to associate hash with example?\n",
    "    t0 = time.time()\n",
    "    for batch_num, batch in enumerate(tqdm.tqdm(test_dataloader)):\n",
    "        batch = tuple(t.to(device) for t in batch)\n",
    "\n",
    "        b_input_ids, b_input_mask, b_labels = batch\n",
    "\n",
    "        with torch.no_grad():\n",
    "            outputs = model(input_ids=b_input_ids,\n",
    "                    token_type_ids=None,\n",
    "                    attention_mask=b_input_mask)[0]\n",
    "\n",
    "        logits = outputs\n",
    "\n",
    "        logits = logits.detach().cpu().numpy()\n",
    "        label_ids = b_labels.to(\"cpu\").numpy()\n",
    "        for input_id, logit, label_id in zip(b_input_ids, logits, label_ids):\n",
    "            example_id = test_hashes[hash_index]\n",
    "            hash_index += 1\n",
    "            results_dict[example_id] = {\n",
    "                \"logits\": logit.tolist(),\n",
    "                \"label\": [int(label_id)],\n",
    "            }\n",
    "\n",
    "        tmp_eval_accuracy = flat_accuracy(logits, label_ids)\n",
    "\n",
    "        eval_accuracy += tmp_eval_accuracy\n",
    "        nb_eval_steps += 1\n",
    "\n",
    "    print(f\"Validation Accuracy: {round(eval_accuracy / nb_eval_steps, 2)}\")\n",
    "    print(f\"Validation took: {format_time(time.time() - t0)}\")\n",
    "\n",
    "    with open(os.path.join(results_dir, results_filename.format(epoch_num=epoch_num)), \"w\") as f:\n",
    "        json.dump(results_dict, f)\n",
    "\n",
    "    metrics_dict = compute_scores(results_dict=results_dict)\n",
    "    print(\"  metrics\", metrics_dict)\n",
    "    with open(os.path.join(results_dir, metrics_filename.format(epoch_num=epoch_num)), \"w\") as f:\n",
    "        json.dump(metrics_dict, f)\n",
    "\n",
    "    return eval_accuracy / nb_eval_steps"
   ]
  },
  {
   "cell_type": "code",
   "execution_count": 10,
   "id": "7e6da02a",
   "metadata": {},
   "outputs": [],
   "source": [
    "def train(\n",
    "    train_filename,\n",
    "    test_filenames,\n",
    "    subtrees_filename,\n",
    "    data_dir,\n",
    "    results_dir,\n",
    "    ckpt_dir,\n",
    "    results_filename,\n",
    "    ckpt_filename,\n",
    "    metrics_filename,\n",
    "    test_wordnet_filenames,\n",
    "    batch_size,\n",
    "    num_epochs,\n",
    "    learning_rate,\n",
    "    num_warmup_steps,\n",
    "    num_labels,\n",
    "    experiment_name,\n",
    "    cased,\n",
    "    reload_from_epoch_num,\n",
    "    validate_only,\n",
    "    model,\n",
    "    reload_from_checkpoint,\n",
    "    max_len,\n",
    "    dataset_type='sequence_classification',\n",
    "    adam_eps=1e-8,\n",
    "    seed_val=2020,\n",
    "):\n",
    "    tokenizer = AutoTokenizer.from_pretrained(model)\n",
    "    model = AutoModelForSequenceClassification.from_pretrained(model)\n",
    "\n",
    "    if reload_from_checkpoint:\n",
    "        ckpt_filename = os.path.join(ckpt_dir, ckpt_filename.format(epoch_num=reload_from_epoch_num))\n",
    "        print(f\"reloading from {ckpt_filename}\")\n",
    "        model.load_state_dict(torch.load(ckpt_filename))\n",
    "        starting_epoch_num = int(reload_from_epoch_num.split(\"_\")[0])\n",
    "    else:\n",
    "        starting_epoch_num = -1\n",
    "\n",
    "    t0 = time.time()\n",
    "\n",
    "    if not args.validate_only:\n",
    "        print(f\"{format_time(time.time()-t0)} Getting train dataset\")\n",
    "        train_dataloader, _ = get_dataset(train_filename,\n",
    "                data_dir,\n",
    "                tokenizer=tokenizer,\n",
    "                batch_size=batch_size,\n",
    "                max_len=max_len,\n",
    "                dataset_type=dataset_type,\n",
    "                is_train_data=True)\n",
    "        num_training_steps = num_epochs * len(train_dataloader)\n",
    "        first_epoch_validation_increment = len(train_dataloader) // 10\n",
    "        optimizer = AdamW(model.parameters(), lr=learning_rate, eps=adam_eps)\n",
    "        scheduler = get_linear_schedule_with_warmup(optimizer,\n",
    "                num_warmup_steps=num_warmup_steps,\n",
    "                num_training_steps=num_training_steps)\n",
    "\n",
    "    print(f\"{format_time(time.time()-t0)} Getting validation dataset\")\n",
    "    test_datas_list = [get_dataset(test_filename,\n",
    "        data_dir,\n",
    "        tokenizer=tokenizer,\n",
    "        batch_size=batch_size,\n",
    "        max_len=max_len,\n",
    "        dataset_type=dataset_type,\n",
    "        is_train_data=False)\n",
    "        for test_filename in test_filenames]\n",
    "\n",
    "    model.to(device)\n",
    "\n",
    "    random.seed(seed_val)\n",
    "    np.random.seed(seed_val)\n",
    "    torch.manual_seed(seed_val)\n",
    "    torch.cuda.manual_seed_all(seed_val)\n",
    "\n",
    "    loss_values = []\n",
    "\n",
    "    print(f\"{format_time(time.time()-t0)} Begin training\")\n",
    "\n",
    "    def do_validation():\n",
    "        print(\"\")\n",
    "        print(\"Running Validation...\")\n",
    "        for test_data, test_filename, test_wordnet_filename in zip(test_datas_list, test_filenames, test_wordnet_filenames):\n",
    "            run_validation(test_data=test_data,\n",
    "                    test_filename=test_filename,\n",
    "                    train_filename=train_filename,\n",
    "                    model=model,\n",
    "                    results_dir=results_dir,\n",
    "                    epoch_num=epoch_num,\n",
    "                    experiment_name=experiment_name,\n",
    "                    results_filename=results_filename,\n",
    "                    metrics_filename=metrics_filename)\n",
    "\n",
    "            run_inference(test_filename=test_filename,\n",
    "                    epoch_num=epoch_num,\n",
    "                    results_filename=results_filename,\n",
    "                    subtrees_filename=subtrees_filename,\n",
    "                    results_dir=results_dir,\n",
    "                    wordnet_filename=test_wordnet_filename,\n",
    "                    data_dir=data_dir)\n",
    "\n",
    "    if validate_only:\n",
    "        epoch_num = reload_from_epoch_num\n",
    "        do_validation()\n",
    "        return\n",
    "\n",
    "    for epoch_num in range(starting_epoch_num + 1, starting_epoch_num + 1 + num_epochs):\n",
    "        print(f\"Epoch num: {epoch_num}\")\n",
    "        do_validation()\n",
    "        t0 = time.time()\n",
    "        total_loss = 0\n",
    "        train_accuracy = 0\n",
    "        nb_train_steps = 0\n",
    "        model.train()\n",
    "        for step, batch in enumerate(tqdm.tqdm(train_dataloader)):\n",
    "            if step % 40 == 0 and not step == 0:\n",
    "                elapsed = format_time(time.time() - t0)\n",
    "                print(f\"  Batch {step}  of  {len(train_dataloader)}.    Elapsed: {elapsed}.\")\n",
    "\n",
    "            b_input_ids = batch[0].to(device)\n",
    "            b_input_mask = batch[1].to(device)\n",
    "            b_labels = batch[2].to(device)\n",
    "            model.zero_grad()\n",
    "            outputs = model(b_input_ids,\n",
    "                    token_type_ids=None,\n",
    "                    attention_mask=b_input_mask)[0]\n",
    "            loss_fct = CrossEntropyLoss()\n",
    "            loss = loss_fct(outputs.view(-1, num_labels), b_labels.view(-1))\n",
    "            total_loss += loss.item()\n",
    "            loss.backward()\n",
    "            torch.nn.utils.clip_grad_norm_(model.parameters(), 1.0)\n",
    "            optimizer.step()\n",
    "            scheduler.step()\n",
    "\n",
    "            logits = outputs\n",
    "            logits = logits.detach().cpu().numpy()\n",
    "            label_ids = b_labels.to(\"cpu\").numpy()\n",
    "            tmp_train_accuracy = flat_accuracy(logits, label_ids)\n",
    "            train_accuracy += tmp_train_accuracy\n",
    "            nb_train_steps += 1\n",
    "\n",
    "            if (epoch_num == 0\n",
    "                    and step % first_epoch_validation_increment == 0\n",
    "                    and not step == 0):\n",
    "                print(f\"    Step {step}, epoch {epoch_num}\")\n",
    "                do_validation()\n",
    "                torch.save(model.state_dict(),\n",
    "                        os.path.join(ckpt_dir, ckpt_filename.format(epoch_num=epoch_num)).replace('.ckpt', f'_step_{step}.ckpt'))\n",
    "                compute_metrics(labels=label_ids, label_predictions=np.argmax(logits, axis=-1))\n",
    "\n",
    "        avg_train_loss = total_loss / len(train_dataloader)\n",
    "        loss_values.append(avg_train_loss)\n",
    "\n",
    "        print(f\"  Training Accuracy: {round(train_accuracy / nb_train_steps, 2)}\")\n",
    "        print(f\"  Average training loss: {round(avg_train_loss, 2)}\")\n",
    "        print(f\"  Training epoch took: {format_time(time.time() - t0)}\")\n",
    "        torch.save(model.state_dict(),\n",
    "            os.path.join(ckpt_dir, ckpt_filename.format(epoch_num=epoch_num)))\n",
    "        compute_metrics(labels=label_ids, label_predictions=np.argmax(logits, axis=1))\n",
    "\n",
    "        t0 = time.time()\n",
    "\n",
    "        model.eval()\n",
    "    print(\"\")\n",
    "    print(\"Training complete!\")"
   ]
  },
  {
   "cell_type": "code",
   "execution_count": 16,
   "id": "9c0c4b4e",
   "metadata": {},
   "outputs": [
    {
     "data": {
      "text/plain": [
       "Arguments(train_filename='wordnet_bansal_anc_0_sib_0_desc_0_rand_0_parent_1_train_subsample_0_pos_subset_None.json', test_filenames=('wordnet_bansal_anc_0_sib_0_desc_0_rand_0_parent_1_test_subsample_0_pos_subset_None.json',), subtrees_filename='subtrees_par_bert_1e6_seed2.json', data_dir='./datasets/generated_training_pairs', results_dir='./outputs/results/', ckpt_dir='./outputs/ckpts/', results_filename='logits_par_bert_1e6_seed2.json', metrics_filename='metrics_par_bert_1e6_seed2.json', test_wordnet_filenames=('bansal14_trees.csv',), ckpt_filename='ckpt_par_bert_1e6_seed2.json', batch_size=32, num_epochs=10, learning_rate=1e-05, num_warmup_steps=320, num_labels=2, experiment_name='WN_par_bert_1e6_seed2', cased=0, validate_only=1, reload_from_checkpoint=1, model='bert-base-uncased', max_len=64, dataset_type='sequence_classification', random_seed=0)"
      ]
     },
     "execution_count": 16,
     "metadata": {},
     "output_type": "execute_result"
    }
   ],
   "source": [
    "from dataclasses import dataclass\n",
    "@dataclass\n",
    "class Arguments():\n",
    "    train_filename: str=\"wordnet_bansal_anc_0_sib_0_desc_0_rand_0_parent_1_train_subsample_0_pos_subset_None.json\"\n",
    "    test_filenames: list=(\"wordnet_bansal_anc_0_sib_0_desc_0_rand_0_parent_1_test_subsample_0_pos_subset_None.json\",)\n",
    "    subtrees_filename: str=\"subtrees_par_bert_1e6_seed2.json\"\n",
    "    data_dir: str = \"./datasets/generated_training_pairs\"\n",
    "    results_dir: str=\"./outputs/results/\"\n",
    "    ckpt_dir: str=\"./outputs/ckpts/\"\n",
    "    results_filename: str=\"logits_par_bert_1e6_seed2.json\"\n",
    "    metrics_filename: str=\"metrics_par_bert_1e6_seed2.json\"\n",
    "    test_wordnet_filenames: list=(\"bansal14_trees.csv\",)\n",
    "    ckpt_filename: str=\"ckpt_par_bert_1e6_seed2.json\"\n",
    "    batch_size: int=32\n",
    "    num_epochs: int=10\n",
    "    learning_rate: float=1e-5\n",
    "    num_warmup_steps: int=320\n",
    "    num_labels: int=2\n",
    "    experiment_name: str=\"WN_par_bert_1e6_seed2\"\n",
    "    cased: bool= 0\n",
    "    reload_from_epoch_num=\"10_0\"\n",
    "    validate_only: bool=1\n",
    "    reload_from_checkpoint: bool=1\n",
    "    model: str=\"bert-base-uncased\"\n",
    "    max_len: int=64\n",
    "    dataset_type: str=\"sequence_classification\"\n",
    "    random_seed: int=0\n",
    "\n",
    "args = Arguments()\n",
    "args"
   ]
  },
  {
   "cell_type": "code",
   "execution_count": 19,
   "id": "d42af32f",
   "metadata": {},
   "outputs": [],
   "source": [
    "# %cd .."
   ]
  },
  {
   "cell_type": "code",
   "execution_count": 25,
   "id": "059a326e",
   "metadata": {},
   "outputs": [
    {
     "name": "stdout",
     "output_type": "stream",
     "text": [
      "args Arguments(train_filename='wordnet_bansal_anc_0_sib_0_desc_0_rand_0_parent_1_train_subsample_0_pos_subset_None.json', test_filenames=('wordnet_bansal_anc_0_sib_0_desc_0_rand_0_parent_1_test_subsample_0_pos_subset_None.json',), subtrees_filename='subtrees_par_bert_1e6_seed2.json', data_dir='./datasets/generated_training_pairs', results_dir='./outputs/results/', ckpt_dir='./outputs/ckpts/', results_filename='logits_par_bert_1e6_seed2.json', metrics_filename='metrics_par_bert_1e6_seed2.json', test_wordnet_filenames=('bansal14_trees.csv',), ckpt_filename='ckpt_par_bert_1e6_seed2.json', batch_size=32, num_epochs=10, learning_rate=1e-05, num_warmup_steps=320, num_labels=2, experiment_name='WN_par_bert_1e6_seed2', cased=0, validate_only=1, reload_from_checkpoint=1, model='bert-base-uncased', max_len=64, dataset_type='sequence_classification', random_seed=0)\n",
      "Experiment running on commit  b'21a39b978b2c3a484627e608a17e02db1d7419a6\\n'\n"
     ]
    },
    {
     "name": "stderr",
     "output_type": "stream",
     "text": [
      "Some weights of the model checkpoint at bert-base-uncased were not used when initializing BertForSequenceClassification: ['cls.predictions.transform.LayerNorm.bias', 'cls.seq_relationship.bias', 'cls.predictions.transform.LayerNorm.weight', 'cls.predictions.transform.dense.weight', 'cls.predictions.bias', 'cls.predictions.decoder.weight', 'cls.predictions.transform.dense.bias', 'cls.seq_relationship.weight']\n",
      "- This IS expected if you are initializing BertForSequenceClassification from the checkpoint of a model trained on another task or with another architecture (e.g. initializing a BertForSequenceClassification model from a BertForPreTraining model).\n",
      "- This IS NOT expected if you are initializing BertForSequenceClassification from the checkpoint of a model that you expect to be exactly identical (initializing a BertForSequenceClassification model from a BertForSequenceClassification model).\n",
      "Some weights of BertForSequenceClassification were not initialized from the model checkpoint at bert-base-uncased and are newly initialized: ['classifier.weight', 'classifier.bias']\n",
      "You should probably TRAIN this model on a down-stream task to be able to use it for predictions and inference.\n"
     ]
    },
    {
     "name": "stdout",
     "output_type": "stream",
     "text": [
      "reloading from ./outputs/ckpts/ckpt_par_bert_1e6_seed2.json\n",
      "0:00:00 Getting validation dataset\n"
     ]
    },
    {
     "name": "stderr",
     "output_type": "stream",
     "text": [
      "Truncation was not explicitly activated but `max_length` is provided a specific value, please use `truncation=True` to explicitly truncate examples to max length. Defaulting to 'longest_first' truncation strategy. If you encode pairs of sequences (GLUE-style) with the tokenizer you can select this strategy more precisely by providing a specific strategy to `truncation`.\n",
      "/home/ec2-user/anaconda3/envs/pytorch_p38/lib/python3.8/site-packages/transformers/tokenization_utils_base.py:2301: FutureWarning: The `pad_to_max_length` argument is deprecated and will be removed in a future version, use `padding=True` or `padding='longest'` to pad to the longest sequence in the batch, or use `padding='max_length'` to pad to a max length. In this case, you can give a specific length with `max_length` (e.g. `max_length=45`) or leave max_length to None to pad to the maximal input size of the model (e.g. 512 for Bert).\n",
      "  warnings.warn(\n"
     ]
    },
    {
     "name": "stdout",
     "output_type": "stream",
     "text": [
      "Using 54202 sentences from wordnet_bansal_anc_0_sib_0_desc_0_rand_0_parent_1_test_subsample_0_pos_subset_None.json\n",
      "1694 examples loaded from wordnet_bansal_anc_0_sib_0_desc_0_rand_0_parent_1_test_subsample_0_pos_subset_None.json\n",
      "0:00:10 Begin training\n",
      "\n",
      "Running Validation...\n"
     ]
    },
    {
     "name": "stderr",
     "output_type": "stream",
     "text": [
      "  0%|          | 0/1694 [00:00<?, ?it/s]"
     ]
    },
    {
     "name": "stdout",
     "output_type": "stream",
     "text": [
      "huggingface/tokenizers: The current process just got forked, after parallelism has already been used. Disabling parallelism to avoid deadlocks...\n",
      "To disable this warning, you can either:\n",
      "\t- Avoid using `tokenizers` before the fork if possible\n",
      "\t- Explicitly set the environment variable TOKENIZERS_PARALLELISM=(true | false)\n",
      "huggingface/tokenizers: The current process just got forked, after parallelism has already been used. Disabling parallelism to avoid deadlocks...\n",
      "To disable this warning, you can either:\n",
      "\t- Avoid using `tokenizers` before the fork if possible\n",
      "\t- Explicitly set the environment variable TOKENIZERS_PARALLELISM=(true | false)\n",
      "huggingface/tokenizers: The current process just got forked, after parallelism has already been used. Disabling parallelism to avoid deadlocks...\n",
      "To disable this warning, you can either:\n",
      "\t- Avoid using `tokenizers` before the fork if possible\n",
      "\t- Explicitly set the environment variable TOKENIZERS_PARALLELISM=(true | false)\n",
      "huggingface/tokenizers: The current process just got forked, after parallelism has already been used. Disabling parallelism to avoid deadlocks...\n",
      "To disable this warning, you can either:\n",
      "\t- Avoid using `tokenizers` before the fork if possible\n",
      "\t- Explicitly set the environment variable TOKENIZERS_PARALLELISM=(true | false)\n",
      "huggingface/tokenizers: The current process just got forked, after parallelism has already been used. Disabling parallelism to avoid deadlocks...\n",
      "To disable this warning, you can either:\n",
      "\t- Avoid using `tokenizers` before the fork if possible\n",
      "\t- Explicitly set the environment variable TOKENIZERS_PARALLELISM=(true | false)\n",
      "huggingface/tokenizers: The current process just got forked, after parallelism has already been used. Disabling parallelism to avoid deadlocks...\n",
      "To disable this warning, you can either:\n",
      "\t- Avoid using `tokenizers` before the fork if possible\n",
      "\t- Explicitly set the environment variable TOKENIZERS_PARALLELISM=(true | false)\n",
      "huggingface/tokenizers: The current process just got forked, after parallelism has already been used. Disabling parallelism to avoid deadlocks...\n",
      "To disable this warning, you can either:\n",
      "\t- Avoid using `tokenizers` before the fork if possible\n",
      "\t- Explicitly set the environment variable TOKENIZERS_PARALLELISM=(true | false)\n",
      "huggingface/tokenizers: The current process just got forked, after parallelism has already been used. Disabling parallelism to avoid deadlocks...\n",
      "To disable this warning, you can either:\n",
      "\t- Avoid using `tokenizers` before the fork if possible\n",
      "\t- Explicitly set the environment variable TOKENIZERS_PARALLELISM=(true | false)\n"
     ]
    },
    {
     "name": "stderr",
     "output_type": "stream",
     "text": [
      "100%|█████████▉| 1693/1694 [03:29<00:00,  8.86it/s]"
     ]
    },
    {
     "name": "stdout",
     "output_type": "stream",
     "text": [
      "\t- Explicitly set the environment variable TOKENIZERS_PARALLELISM=(true | false)\n",
      "\t- Explicitly set the environment variable TOKENIZERS_PARALLELISM=(true | false)\n",
      "\t- Explicitly set the environment variable TOKENIZERS_PARALLELISM=(true | false)\n",
      "\t- Explicitly set the environment variable TOKENIZERS_PARALLELISM=(true | false)\n",
      "\t- Explicitly set the environment variable TOKENIZERS_PARALLELISM=(true | false)\n"
     ]
    },
    {
     "name": "stderr",
     "output_type": "stream",
     "text": [
      "100%|██████████| 1694/1694 [03:29<00:00,  8.08it/s]\n"
     ]
    },
    {
     "name": "stdout",
     "output_type": "stream",
     "text": [
      "Validation Accuracy: 0.95\n",
      "Validation took: 0:03:30\n",
      "{'precision': 0.352, 'recall': 0.389, 'F1': 0.37, 'true_positives': 865, 'false_positives': 1590, 'false_negatives': 1360, 'true_negatives': 50387, 'accuracy': 0.946}\n",
      "  metrics {'precision': 0.352, 'recall': 0.389, 'F1': 0.37, 'true_positives': 865, 'false_positives': 1590, 'false_negatives': 1360, 'true_negatives': 50387, 'accuracy': 0.946}\n",
      "Epoch num 10_0: pruned_precision 0.54 // pruned_recall 0.53 // pruned_f1 0.53\n"
     ]
    }
   ],
   "source": [
    "check_backwards_compatability(args)\n",
    "print(f\"args {args}\")\n",
    "\n",
    "if not os.path.exists(\"./outputs/logs\"):\n",
    "    os.makedirs(\"./outputs/logs\")\n",
    "\n",
    "if not os.path.exists(args.ckpt_dir):\n",
    "    os.makedirs(args.ckpt_dir)\n",
    "\n",
    "if not os.path.exists(args.results_dir):\n",
    "    os.makedirs(args.results_dir)\n",
    "\n",
    "print('Experiment running on commit ', subprocess.check_output(['git', 'rev-parse', 'HEAD']))\n",
    "\n",
    "set_random_seed(args.random_seed)\n",
    "train(train_filename=args.train_filename,\n",
    "      test_filenames=args.test_filenames,\n",
    "      subtrees_filename=args.subtrees_filename,\n",
    "      data_dir=args.data_dir,\n",
    "      results_dir=args.results_dir,\n",
    "      ckpt_dir=args.ckpt_dir,\n",
    "      results_filename=args.results_filename,\n",
    "      ckpt_filename=args.ckpt_filename,\n",
    "      metrics_filename=args.metrics_filename,\n",
    "      batch_size=args.batch_size,\n",
    "      num_epochs=args.num_epochs,\n",
    "      learning_rate=args.learning_rate,\n",
    "      num_warmup_steps=args.num_warmup_steps,\n",
    "      num_labels=args.num_labels,\n",
    "      cased=args.cased,\n",
    "      experiment_name=args.experiment_name,\n",
    "      reload_from_checkpoint=args.reload_from_checkpoint,\n",
    "      reload_from_epoch_num=args.reload_from_epoch_num,\n",
    "      validate_only=args.validate_only,\n",
    "      model=args.model,\n",
    "      max_len=args.max_len,\n",
    "      dataset_type=args.dataset_type,\n",
    "      test_wordnet_filenames=args.test_wordnet_filenames)"
   ]
  },
  {
   "cell_type": "code",
   "execution_count": 40,
   "id": "3b015b16",
   "metadata": {},
   "outputs": [],
   "source": [
    "with open(\"datasets/generated_training_pairs/wordnet_bansal_anc_0_sib_0_desc_0_rand_0_parent_1_train_subsample_0_pos_subset_None.json\", \"r\") as f:\n",
    "     data_dict = json.load(f)"
   ]
  },
  {
   "cell_type": "code",
   "execution_count": null,
   "id": "7a622a5b",
   "metadata": {},
   "outputs": [],
   "source": []
  }
 ],
 "metadata": {
  "kernelspec": {
   "display_name": "conda_pytorch_p38",
   "language": "python",
   "name": "conda_pytorch_p38"
  },
  "language_info": {
   "codemirror_mode": {
    "name": "ipython",
    "version": 3
   },
   "file_extension": ".py",
   "mimetype": "text/x-python",
   "name": "python",
   "nbconvert_exporter": "python",
   "pygments_lexer": "ipython3",
   "version": "3.8.12"
  }
 },
 "nbformat": 4,
 "nbformat_minor": 5
}
